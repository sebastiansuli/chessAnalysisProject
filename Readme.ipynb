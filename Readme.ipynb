{
 "cells": [
  {
   "cell_type": "markdown",
   "id": "ce8e89d1",
   "metadata": {},
   "source": [
    "## Analysis of Jan Krzysztof Duda's debuts and games in context of global trends in openings and games with opponents with biggest ELO difference."
   ]
  },
  {
   "cell_type": "markdown",
   "id": "3cd36757",
   "metadata": {},
   "source": [
    "The analysis of chess debuts and games played by Jan Krzysztof Duda is based on the 'chess' library, which is typically used for chess analysis. The following libraries were also used: numpy, pandas, seaborn, matplotlib.pyplot, and pyarrow.\n",
    "\n",
    "To analyze the games, a file with the extension *.parqet was imported, which describes 1,971,319 professional chess games, including 1729 games played by Duda. After importing the data and libraries, characteristics were presented for the entire dataset and then for the Polish player. The analysis focused on the openings that he played, depending on the year or the number of wins/losses.\n",
    "\n",
    "An additional step was the analysis of PGN files of two games in which Duda lost to players with the largest ELO difference compared to him. For this purpose, the chess.pgn library and the Stockfish engine were used.\n",
    "\n",
    "More detailed descriptions of the steps can be found in the code."
   ]
  }
 ],
 "metadata": {
  "kernelspec": {
   "display_name": "Python 3 (ipykernel)",
   "language": "python",
   "name": "python3"
  },
  "language_info": {
   "codemirror_mode": {
    "name": "ipython",
    "version": 3
   },
   "file_extension": ".py",
   "mimetype": "text/x-python",
   "name": "python",
   "nbconvert_exporter": "python",
   "pygments_lexer": "ipython3",
   "version": "3.9.13"
  }
 },
 "nbformat": 4,
 "nbformat_minor": 5
}
